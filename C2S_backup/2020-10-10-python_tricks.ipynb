{
 "cells": [
  {
   "cell_type": "markdown",
   "metadata": {},
   "source": [
    "# Some useful python tricks\n",
    "> Become a pro in python by learning some advanced tricks \n",
    "\n",
    "- toc: true \n",
    "- badges: true\n",
    "- comments: true\n",
    "- hide: false\n",
    "- search_exclude: false\n",
    "- categories: [programming, python, decorators]\n",
    "- image: images/favicon.ico"
   ]
  },
  {
   "cell_type": "markdown",
   "metadata": {},
   "source": [
    "## Decorators\n",
    "- [blog](https://realpython.com/primer-on-python-decorators/#registering-plugins), [Youtube tutorial: Geir Arne Hjelle - Introduction to Decorators: Power Up Your Python Code](https://www.youtube.com/watch?v=T8CQwGIsrx4) states decorators as a function that is applied to someother function.A decorator is a function that takes another function and extends the behavior of the latter function without explicitly modifying it.Decorators are generally used to add consistent behavior to several function. For example, [click](https://pypi.org/project/click/), [fastscript](https://github.com/fastai/fastscript) package in python converts regular function to command line arguments\n",
    "\n",
    "- without decorator\n",
    "```python\n",
    "def f(): pass \n",
    "f = call(f)\n",
    "```\n",
    "\n",
    "- with decorator\n",
    "```python\n",
    "@call\n",
    "def f(): pass \n",
    "```\n",
    "\n",
    "### Template for decorator: \n",
    "Here, wrapper is a decorator, which takes in func as an argument, it does something before calling the function `func` and after the `func` and return the value. \n",
    "\n",
    "```python\n",
    "import functools\n",
    "def wrapper(func):\n",
    "    @functools.wraps(func)\n",
    "    def _wrapper(*args, **kwargs):\n",
    "        ## Do something before calling the function\n",
    "        value = func(*args, **kwargs)\n",
    "        ## Do something after calling the function\n",
    "        return value\n",
    "    return _wrapper\n",
    "```\n",
    "\n",
    "\n",
    "### useful pointers on decorators\n",
    "- dataclass decorator was introduced in python 3.7\n",
    "- there is a package on pypi called [decorator](https://github.com/micheles/decorator)\n",
    "- [@staticmethod, @classmethod](https://realpython.com/instance-class-and-static-methods-demystified/) and [@property](https://docs.python.org/3/library/functions.html#property) decorator.\n",
    "- [@dataclass](https://realpython.com/python-data-classes/), [realpython tutorial on dataclass](https://realpython.com/python-data-classes/)\n",
    "- [@singleton](https://stackoverflow.com/questions/6760685/creating-a-singleton-in-python) doesnt allow you to create classes with same name.\n",
    "- @functools.wraps\n",
    "- @contextlib.contextmanager \n",
    "\n",
    "\n",
    "### Python 3.9\n",
    "\n",
    "```python\n",
    "PROD=False \n",
    "\n",
    "def do_nothing(func):\n",
    "    return func \n",
    "\n",
    "def trace(func):\n",
    "    def _trace(*args, **kwargs):\n",
    "        print(\"tracing\")\n",
    "        return func(*args, **kwargs)\n",
    "    return _trace\n",
    "\n",
    "@(do_nothing if PROD else trace)\n",
    "def hey():\n",
    "    print(\"hey\")\n",
    "```"
   ]
  },
  {
   "cell_type": "markdown",
   "metadata": {},
   "source": [
    "## DataModel \n",
    "\n",
    "- `__init__`\n",
    "- `__repr__`\n",
    "- `__slots__`\n",
    "- `__eq__`\n",
    "- `__pre_init__`\n",
    "- `__post_init__`\n",
    "\n",
    "This is work in progress. "
   ]
  },
  {
   "cell_type": "markdown",
   "metadata": {},
   "source": [
    "<script src=\"https://utteranc.es/client.js\"\n",
    "        repo=\"carbon2silicon\"\n",
    "        issue-term=\"pathname\"\n",
    "        theme=\"github-light\"\n",
    "        crossorigin=\"anonymous\"\n",
    "        async>\n",
    "</script>"
   ]
  }
 ],
 "metadata": {
  "kernelspec": {
   "display_name": "Python 3",
   "language": "python",
   "name": "python3"
  },
  "language_info": {
   "codemirror_mode": {
    "name": "ipython",
    "version": 3
   },
   "file_extension": ".py",
   "mimetype": "text/x-python",
   "name": "python",
   "nbconvert_exporter": "python",
   "pygments_lexer": "ipython3",
   "version": "3.8.3"
  },
  "varInspector": {
   "cols": {
    "lenName": 16,
    "lenType": 16,
    "lenVar": 40
   },
   "kernels_config": {
    "python": {
     "delete_cmd_postfix": "",
     "delete_cmd_prefix": "del ",
     "library": "var_list.py",
     "varRefreshCmd": "print(var_dic_list())"
    },
    "r": {
     "delete_cmd_postfix": ") ",
     "delete_cmd_prefix": "rm(",
     "library": "var_list.r",
     "varRefreshCmd": "cat(var_dic_list()) "
    }
   },
   "types_to_exclude": [
    "module",
    "function",
    "builtin_function_or_method",
    "instance",
    "_Feature"
   ],
   "window_display": false
  }
 },
 "nbformat": 4,
 "nbformat_minor": 4
}
