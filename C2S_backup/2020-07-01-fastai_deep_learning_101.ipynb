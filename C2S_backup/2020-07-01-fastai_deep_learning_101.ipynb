{
 "cells": [
  {
   "cell_type": "markdown",
   "metadata": {},
   "source": [
    "# A tutorial on understanding fastai apis\n",
    "> Fastai v2 has impressive APIs and functionality which helps us in writing better, concise and error free code. Lets deep dive into some of these core things here. \n",
    "\n",
    "- toc: true \n",
    "- badges: true\n",
    "- comments: true\n",
    "- hide: true\n",
    "- search_exclude: false\n",
    "- categories: [fastai, python, deep-learning]\n",
    "- image: images/favicon.ico"
   ]
  },
  {
   "cell_type": "markdown",
   "metadata": {},
   "source": [
    "## Useful decorators"
   ]
  },
  {
   "cell_type": "markdown",
   "metadata": {},
   "source": [
    "### Delegates \n",
    "- usually when we write a function with **kwargs**, it is difficult to get tab completion, so fastcore has implemented [delegates](https://www.fast.ai/2019/08/06/delegation/) function which does this for you. \n",
    "- It is extensively used in fastai2."
   ]
  },
  {
   "cell_type": "code",
   "execution_count": 1,
   "metadata": {},
   "outputs": [
    {
     "name": "stdout",
     "output_type": "stream",
     "text": [
      "(title, price, cost, category='General', date=None, author='Jeremy')\n",
      "(title, price, cost, **kwargs)\n"
     ]
    }
   ],
   "source": [
    "import inspect\n",
    "from fastcore.foundation import delegates\n",
    "\n",
    "\n",
    "def create_web_page(title, category=\"General\", date=None, author=\"Jeremy\"):\n",
    "    ...\n",
    "\n",
    "@delegates(create_web_page)\n",
    "def create_product_page(title, price, cost, **kwargs):\n",
    "    ...\n",
    "    \n",
    "def create_product_page2(title, price, cost, **kwargs):\n",
    "    ...\n",
    "    \n",
    "\n",
    "print(inspect.signature(create_product_page))\n",
    "print(inspect.signature(create_product_page2))"
   ]
  },
  {
   "cell_type": "markdown",
   "metadata": {},
   "source": [
    "### @patch,  @patch_to and @patch_property\n",
    "- @patch and @patch_to tries to add methods to the already defined classes. We have used patch to add **pad_resize** to Image module. \n",
    "- @patch_property adds attributes to already defined classes. suppose you have PIL.Image which doesn't have shape property. You want add this method to the PIL.Image, how can we do this?"
   ]
  },
  {
   "cell_type": "code",
   "execution_count": 2,
   "metadata": {},
   "outputs": [],
   "source": [
    "from PIL import Image\n",
    "from fastcore.foundation import patch_property, patch\n",
    "\n",
    "@patch_property\n",
    "def shape(x: Image.Image): return (x.size[0], x.size[1])\n",
    "\n",
    "@patch\n",
    "def pad_resize(self: Image, size: tuple):\n",
    "    \"Does padding and resize based on h/w\"\n",
    "    return self"
   ]
  },
  {
   "cell_type": "code",
   "execution_count": 3,
   "metadata": {},
   "outputs": [
    {
     "name": "stdout",
     "output_type": "stream",
     "text": [
      "(25, 35)\n"
     ]
    },
    {
     "data": {
      "image/png": "[encoded data removed]",
      "text/plain": [
       "<PIL.PngImagePlugin.PngImageFile image mode=RGBA size=25x35 at 0x7F035C2B8190>"
      ]
     },
     "execution_count": 3,
     "metadata": {},
     "output_type": "execute_result"
    }
   ],
   "source": [
    "f = Image.open(\"../images/favicon.ico\")\n",
    "print(f.shape)\n",
    "Image.pad_resize(f, size=(20, 20)) #"
   ]
  },
  {
   "cell_type": "markdown",
   "metadata": {},
   "source": [
    "### @typedispatch\n",
    "- whenever we want to make a function work depending on the input type we can use typedispatch. say for example we want to add two numbers only if their types are both the same. \n",
    "- It can be heavily used in augmentations in DL vision, where we implement different functions for say Resize of mask and Resize of image. Using typedispatch, makes us call only one function called resize, but appropriate resize happens after checking the type."
   ]
  },
  {
   "cell_type": "code",
   "execution_count": 4,
   "metadata": {},
   "outputs": [],
   "source": [
    "from fastcore.dispatch import typedispatch\n",
    "@typedispatch\n",
    "def f(x: int, y: int): return x+y\n",
    "\n",
    "@typedispatch\n",
    "def f(x, y): return \"It doesn't work like this\""
   ]
  },
  {
   "cell_type": "code",
   "execution_count": 5,
   "metadata": {},
   "outputs": [
    {
     "name": "stdout",
     "output_type": "stream",
     "text": [
      "3\n",
      "It doesn't work like this\n"
     ]
    }
   ],
   "source": [
    "print(f(1, 2))\n",
    "print(f(1, 2.))"
   ]
  },
  {
   "cell_type": "code",
   "execution_count": 6,
   "metadata": {},
   "outputs": [],
   "source": [
    "@typedispatch\n",
    "def f2(x: int): return x"
   ]
  },
  {
   "cell_type": "code",
   "execution_count": 7,
   "metadata": {},
   "outputs": [
    {
     "data": {
      "text/plain": [
       "9.0"
      ]
     },
     "execution_count": 7,
     "metadata": {},
     "output_type": "execute_result"
    }
   ],
   "source": [
    "f2(9.0)"
   ]
  },
  {
   "cell_type": "markdown",
   "metadata": {},
   "source": [
    "## @Transform\n",
    "Transform uses encodes, decodes and setup to make transformations to input objects.\n",
    "- encodes: encodes the input, say resize the image from (H, W) to (h, w)\n",
    "- decodes: decodes the output of encodes to inputs of encodes. resize back from (h,w) to (H, W)\n",
    "- setups: can be used to setup attributes when the function is defined\n",
    "\n",
    "Note:\n",
    "- if a tuple with different types are sent, only those types matching with encodes are processed. \n",
    "- input types are maintained for output also. if we don't want this, we can use -> None"
   ]
  },
  {
   "cell_type": "code",
   "execution_count": 11,
   "metadata": {},
   "outputs": [],
   "source": [
    "from fastcore.transform import Transform"
   ]
  },
  {
   "cell_type": "code",
   "execution_count": 24,
   "metadata": {},
   "outputs": [],
   "source": [
    "class A(Transform):\n",
    "    def encodes(self, x:(int,float)): return x/2\n",
    "    def encodes(self, x:(str,list)): return str(x)+'1'\n",
    "    def decodes(self, x: (int, float)): return x*2"
   ]
  },
  {
   "cell_type": "code",
   "execution_count": 28,
   "metadata": {},
   "outputs": [
    {
     "name": "stdout",
     "output_type": "stream",
     "text": [
      "1.5\n",
      "a1\n",
      "[1, 2]1\n",
      "3.0\n",
      "a1\n",
      "(1.0, 'a1')\n",
      "(4, 'a')\n"
     ]
    }
   ],
   "source": [
    "f = A()\n",
    "print(f(3))\n",
    "print(f(\"a\"))\n",
    "print(f([1, 2]))\n",
    "print(f.decode(1.5))\n",
    "print(f.decode(\"a1\"))\n",
    "print(f((2, \"a\")))\n",
    "print(f.decode((2, \"a\")))"
   ]
  },
  {
   "cell_type": "markdown",
   "metadata": {},
   "source": [
    "## Useful functions"
   ]
  },
  {
   "cell_type": "markdown",
   "metadata": {},
   "source": [
    "### Chunks\n",
    "converting a list of lists to list for calculating length or passing it to dataloaders is expensive. fastai chunks makes this simple."
   ]
  },
  {
   "cell_type": "code",
   "execution_count": 8,
   "metadata": {},
   "outputs": [],
   "source": [
    "from fastai2.torch_core import Chunks"
   ]
  },
  {
   "cell_type": "code",
   "execution_count": 9,
   "metadata": {},
   "outputs": [],
   "source": [
    "a = [[1, 2], [3, 4]]\n",
    "b = Chunks(a)"
   ]
  },
  {
   "cell_type": "code",
   "execution_count": 10,
   "metadata": {},
   "outputs": [
    {
     "name": "stdout",
     "output_type": "stream",
     "text": [
      "(#2) [2,2]\n",
      "[[1, 2], [3, 4]]\n",
      "[0 2 4]\n",
      "4\n"
     ]
    }
   ],
   "source": [
    "print(b.lens)\n",
    "print(b.chunks)\n",
    "print(b.cumlens)\n",
    "print(b.totlen)"
   ]
  },
  {
   "cell_type": "markdown",
   "metadata": {},
   "source": [
    "## Important points \n",
    "- use fastai2.torch_core.Module instead of torch.nn.Module so that we need not use super"
   ]
  },
  {
   "cell_type": "markdown",
   "metadata": {},
   "source": [
    "- This is under active development. "
   ]
  },
  {
   "cell_type": "markdown",
   "metadata": {},
   "source": [
    "<script src=\"https://utteranc.es/client.js\"\n",
    "        repo=\"carbon2silicon\"\n",
    "        issue-term=\"pathname\"\n",
    "        theme=\"github-light\"\n",
    "        crossorigin=\"anonymous\"\n",
    "        async>\n",
    "</script>"
   ]
  }
 ],
 "metadata": {
  "kernelspec": {
   "display_name": "Python (fastai_dev)",
   "language": "python",
   "name": "fastai_dev"
  },
  "language_info": {
   "codemirror_mode": {
    "name": "ipython",
    "version": 3
   },
   "file_extension": ".py",
   "mimetype": "text/x-python",
   "name": "python",
   "nbconvert_exporter": "python",
   "pygments_lexer": "ipython3",
   "version": "3.7.6"
  },
  "varInspector": {
   "cols": {
    "lenName": 16,
    "lenType": 16,
    "lenVar": 40
   },
   "kernels_config": {
    "python": {
     "delete_cmd_postfix": "",
     "delete_cmd_prefix": "del ",
     "library": "var_list.py",
     "varRefreshCmd": "print(var_dic_list())"
    },
    "r": {
     "delete_cmd_postfix": ") ",
     "delete_cmd_prefix": "rm(",
     "library": "var_list.r",
     "varRefreshCmd": "cat(var_dic_list()) "
    }
   },
   "types_to_exclude": [
    "module",
    "function",
    "builtin_function_or_method",
    "instance",
    "_Feature"
   ],
   "window_display": false
  }
 },
 "nbformat": 4,
 "nbformat_minor": 4
}
